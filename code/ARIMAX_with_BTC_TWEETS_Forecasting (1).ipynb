{
 "cells": [
  {
   "cell_type": "markdown",
   "metadata": {
    "id": "T8IkEZ1mF3MP"
   },
   "source": [
    "# Time Series Forecasting of BTC price with exogenous features\n",
    "\n",
    "In this notebook I will be using exogenous features on top of the time series values to predict the BTC price. BTC price data had been obtained from this [dataset](https://www.kaggle.com/datasets/varpit94/bitcoin-data-updated-till-26jun2021) and tweets have been obtained from here.\n",
    "Following preprocessing steps have been done on the Tweets data set.\n",
    "\n",
    "\n",
    "1.   Remove null values\n",
    "2.   Remove non English tweets\n",
    "3.   Extract date and time of the tweets\n",
    "4.   Drop tweets that have been publshed after 8:00 PM\n",
    "5.   Clean the text part of the tweets\n",
    "6.   Use sentiment analysis libraries (Huggin Face, Flair, TextBlob) to get the sentiment value of each tweet\n",
    "7.   Obtain the average sentiment of tweets for each day.\n",
    "8.   Join with the BTC price data set\n",
    "\n",
    "Here we are loading the BTC price and the tweet sentiment value data set."
   ]
  },
  {
   "cell_type": "code",
   "execution_count": 1,
   "metadata": {
    "colab": {
     "base_uri": "https://localhost:8080/",
     "height": 53
    },
    "execution": {
     "iopub.execute_input": "2022-11-10T03:31:52.554966Z",
     "iopub.status.busy": "2022-11-10T03:31:52.553943Z",
     "iopub.status.idle": "2022-11-10T03:31:53.264093Z",
     "shell.execute_reply": "2022-11-10T03:31:53.263482Z",
     "shell.execute_reply.started": "2022-11-10T03:31:52.554871Z"
    },
    "id": "izp8YEidhcwt",
    "outputId": "22c05ebb-a5a8-4180-fb78-eb7157ff2df5"
   },
   "outputs": [
    {
     "data": {
      "text/plain": [
       "'1.4.3'"
      ]
     },
     "execution_count": 1,
     "metadata": {},
     "output_type": "execute_result"
    }
   ],
   "source": [
    "import warnings\n",
    "warnings.filterwarnings('ignore')\n",
    "\n",
    "import pandas as pd\n",
    "import matplotlib.pyplot as plt\n",
    "import numpy as np\n",
    "\n",
    "%matplotlib inline\n",
    "pd.__version__\n"
   ]
  },
  {
   "cell_type": "code",
   "execution_count": 2,
   "metadata": {
    "execution": {
     "iopub.execute_input": "2022-11-10T03:31:55.672371Z",
     "iopub.status.busy": "2022-11-10T03:31:55.671408Z",
     "iopub.status.idle": "2022-11-10T03:31:56.036155Z",
     "shell.execute_reply": "2022-11-10T03:31:56.035295Z",
     "shell.execute_reply.started": "2022-11-10T03:31:55.672345Z"
    },
    "id": "18yhqIHFQ89I"
   },
   "outputs": [],
   "source": [
    "from sklearn.metrics import mean_squared_error\n",
    "def smape_kun(y_true, y_pred):\n",
    "    return np.mean((np.abs(y_pred - y_true) * 200 / (np.abs(y_pred) + np.abs(y_true))))"
   ]
  },
  {
   "cell_type": "markdown",
   "metadata": {
    "id": "0a1a3jB3GYI8"
   },
   "source": [
    "# Load data \n",
    "\n"
   ]
  },
  {
   "cell_type": "code",
   "execution_count": 8,
   "metadata": {
    "colab": {
     "base_uri": "https://localhost:8080/"
    },
    "execution": {
     "iopub.execute_input": "2022-11-10T03:33:56.139995Z",
     "iopub.status.busy": "2022-11-10T03:33:56.139720Z",
     "iopub.status.idle": "2022-11-10T03:33:56.160461Z",
     "shell.execute_reply": "2022-11-10T03:33:56.159922Z",
     "shell.execute_reply.started": "2022-11-10T03:33:56.139976Z"
    },
    "id": "ExsgYom1l4Xs",
    "outputId": "c7e77d66-4160-4362-9f71-67828fd1b245"
   },
   "outputs": [
    {
     "name": "stdout",
     "output_type": "stream",
     "text": [
      "<class 'pandas.core.frame.DataFrame'>\n",
      "RangeIndex: 1894 entries, 0 to 1893\n",
      "Data columns (total 14 columns):\n",
      " #   Column           Non-Null Count  Dtype  \n",
      "---  ------           --------------  -----  \n",
      " 0   Date             1894 non-null   object \n",
      " 1   Open             1894 non-null   float64\n",
      " 2   High             1894 non-null   float64\n",
      " 3   Low              1894 non-null   float64\n",
      " 4   Close            1894 non-null   float64\n",
      " 5   Adj Close        1894 non-null   float64\n",
      " 6   Volume           1894 non-null   int64  \n",
      " 7   num_tweets       1894 non-null   int64  \n",
      " 8   likes            1894 non-null   float64\n",
      " 9   retweets         1894 non-null   float64\n",
      " 10  replies          1894 non-null   float64\n",
      " 11  tb_polarity      1894 non-null   float64\n",
      " 12  tb_subjectivity  1894 non-null   float64\n",
      " 13  vd_sentiment     1894 non-null   float64\n",
      "dtypes: float64(11), int64(2), object(1)\n",
      "memory usage: 207.3+ KB\n"
     ]
    }
   ],
   "source": [
    "file_path = 'Data/tweets_sentiment_btc_usd_final_full.csv'\n",
    "btc_df = pd.read_csv(file_path)\n",
    "btc_df.drop('Unnamed: 0', axis=1,inplace=True)\n",
    "btc_df.rename(columns = {'text':'num_tweets'}, inplace = True)\n",
    "btc_df.info()\n",
    "btc_df.index = pd.to_datetime(btc_df['Date'])"
   ]
  },
  {
   "cell_type": "code",
   "execution_count": 9,
   "metadata": {
    "colab": {
     "base_uri": "https://localhost:8080/",
     "height": 438
    },
    "execution": {
     "iopub.execute_input": "2022-11-10T03:33:59.665821Z",
     "iopub.status.busy": "2022-11-10T03:33:59.665438Z",
     "iopub.status.idle": "2022-11-10T03:33:59.679988Z",
     "shell.execute_reply": "2022-11-10T03:33:59.679484Z",
     "shell.execute_reply.started": "2022-11-10T03:33:59.665789Z"
    },
    "id": "iFVF_c0YmMlJ",
    "outputId": "700a56cc-88b1-4222-9361-9d5f74170d9f"
   },
   "outputs": [
    {
     "data": {
      "text/html": [
       "<div>\n",
       "<style scoped>\n",
       "    .dataframe tbody tr th:only-of-type {\n",
       "        vertical-align: middle;\n",
       "    }\n",
       "\n",
       "    .dataframe tbody tr th {\n",
       "        vertical-align: top;\n",
       "    }\n",
       "\n",
       "    .dataframe thead th {\n",
       "        text-align: right;\n",
       "    }\n",
       "</style>\n",
       "<table border=\"1\" class=\"dataframe\">\n",
       "  <thead>\n",
       "    <tr style=\"text-align: right;\">\n",
       "      <th></th>\n",
       "      <th>Date</th>\n",
       "      <th>Open</th>\n",
       "      <th>High</th>\n",
       "      <th>Low</th>\n",
       "      <th>Close</th>\n",
       "      <th>Adj Close</th>\n",
       "      <th>Volume</th>\n",
       "      <th>num_tweets</th>\n",
       "      <th>likes</th>\n",
       "      <th>retweets</th>\n",
       "      <th>replies</th>\n",
       "      <th>tb_polarity</th>\n",
       "      <th>tb_subjectivity</th>\n",
       "      <th>vd_sentiment</th>\n",
       "    </tr>\n",
       "    <tr>\n",
       "      <th>Date</th>\n",
       "      <th></th>\n",
       "      <th></th>\n",
       "      <th></th>\n",
       "      <th></th>\n",
       "      <th></th>\n",
       "      <th></th>\n",
       "      <th></th>\n",
       "      <th></th>\n",
       "      <th></th>\n",
       "      <th></th>\n",
       "      <th></th>\n",
       "      <th></th>\n",
       "      <th></th>\n",
       "      <th></th>\n",
       "    </tr>\n",
       "  </thead>\n",
       "  <tbody>\n",
       "    <tr>\n",
       "      <th>2015-04-11</th>\n",
       "      <td>2015-04-11</td>\n",
       "      <td>236.016006</td>\n",
       "      <td>239.537003</td>\n",
       "      <td>234.175003</td>\n",
       "      <td>236.552002</td>\n",
       "      <td>236.552002</td>\n",
       "      <td>16365200</td>\n",
       "      <td>911</td>\n",
       "      <td>0.196487</td>\n",
       "      <td>0.196487</td>\n",
       "      <td>0.003293</td>\n",
       "      <td>0.010625</td>\n",
       "      <td>0.188332</td>\n",
       "      <td>0.040123</td>\n",
       "    </tr>\n",
       "    <tr>\n",
       "      <th>2016-08-27</th>\n",
       "      <td>2016-08-27</td>\n",
       "      <td>579.452026</td>\n",
       "      <td>579.844971</td>\n",
       "      <td>568.630005</td>\n",
       "      <td>569.947021</td>\n",
       "      <td>569.947021</td>\n",
       "      <td>59698300</td>\n",
       "      <td>127</td>\n",
       "      <td>0.204724</td>\n",
       "      <td>0.204724</td>\n",
       "      <td>0.000000</td>\n",
       "      <td>0.044348</td>\n",
       "      <td>0.151335</td>\n",
       "      <td>0.010613</td>\n",
       "    </tr>\n",
       "    <tr>\n",
       "      <th>2019-01-27</th>\n",
       "      <td>2019-01-27</td>\n",
       "      <td>3604.687256</td>\n",
       "      <td>3612.671387</td>\n",
       "      <td>3567.245850</td>\n",
       "      <td>3583.965820</td>\n",
       "      <td>3583.965820</td>\n",
       "      <td>5570752966</td>\n",
       "      <td>18587</td>\n",
       "      <td>0.675580</td>\n",
       "      <td>0.675580</td>\n",
       "      <td>0.344111</td>\n",
       "      <td>0.104668</td>\n",
       "      <td>0.280521</td>\n",
       "      <td>0.142638</td>\n",
       "    </tr>\n",
       "    <tr>\n",
       "      <th>2017-03-13</th>\n",
       "      <td>2017-03-13</td>\n",
       "      <td>1221.780029</td>\n",
       "      <td>1237.369995</td>\n",
       "      <td>1217.030029</td>\n",
       "      <td>1231.920044</td>\n",
       "      <td>1231.920044</td>\n",
       "      <td>380276992</td>\n",
       "      <td>186</td>\n",
       "      <td>0.661290</td>\n",
       "      <td>0.661290</td>\n",
       "      <td>0.037634</td>\n",
       "      <td>0.044020</td>\n",
       "      <td>0.139118</td>\n",
       "      <td>0.002361</td>\n",
       "    </tr>\n",
       "    <tr>\n",
       "      <th>2018-05-23</th>\n",
       "      <td>2018-05-23</td>\n",
       "      <td>8037.080078</td>\n",
       "      <td>8054.660156</td>\n",
       "      <td>7507.879883</td>\n",
       "      <td>7557.819824</td>\n",
       "      <td>7557.819824</td>\n",
       "      <td>6491120128</td>\n",
       "      <td>702</td>\n",
       "      <td>13.437322</td>\n",
       "      <td>13.437322</td>\n",
       "      <td>2.507123</td>\n",
       "      <td>0.023608</td>\n",
       "      <td>0.239505</td>\n",
       "      <td>0.060392</td>\n",
       "    </tr>\n",
       "    <tr>\n",
       "      <th>2017-12-15</th>\n",
       "      <td>2017-12-15</td>\n",
       "      <td>16601.300781</td>\n",
       "      <td>18154.099609</td>\n",
       "      <td>16601.300781</td>\n",
       "      <td>17706.900391</td>\n",
       "      <td>17706.900391</td>\n",
       "      <td>14309999616</td>\n",
       "      <td>692</td>\n",
       "      <td>39.881503</td>\n",
       "      <td>39.881503</td>\n",
       "      <td>2.809249</td>\n",
       "      <td>0.036861</td>\n",
       "      <td>0.202554</td>\n",
       "      <td>0.046991</td>\n",
       "    </tr>\n",
       "    <tr>\n",
       "      <th>2016-11-29</th>\n",
       "      <td>2016-11-29</td>\n",
       "      <td>736.328979</td>\n",
       "      <td>737.471008</td>\n",
       "      <td>734.559021</td>\n",
       "      <td>735.604004</td>\n",
       "      <td>735.604004</td>\n",
       "      <td>68511104</td>\n",
       "      <td>231</td>\n",
       "      <td>0.181818</td>\n",
       "      <td>0.181818</td>\n",
       "      <td>0.000000</td>\n",
       "      <td>0.050963</td>\n",
       "      <td>0.185103</td>\n",
       "      <td>0.086940</td>\n",
       "    </tr>\n",
       "    <tr>\n",
       "      <th>2018-04-25</th>\n",
       "      <td>2018-04-25</td>\n",
       "      <td>9701.030273</td>\n",
       "      <td>9745.320313</td>\n",
       "      <td>8799.839844</td>\n",
       "      <td>8845.740234</td>\n",
       "      <td>8845.740234</td>\n",
       "      <td>11083100160</td>\n",
       "      <td>548</td>\n",
       "      <td>4.114964</td>\n",
       "      <td>4.114964</td>\n",
       "      <td>8.295620</td>\n",
       "      <td>0.038266</td>\n",
       "      <td>0.206546</td>\n",
       "      <td>0.061197</td>\n",
       "    </tr>\n",
       "    <tr>\n",
       "      <th>2019-05-22</th>\n",
       "      <td>2019-05-22</td>\n",
       "      <td>7956.291992</td>\n",
       "      <td>7997.612305</td>\n",
       "      <td>7615.987305</td>\n",
       "      <td>7680.066406</td>\n",
       "      <td>7680.066406</td>\n",
       "      <td>24719473175</td>\n",
       "      <td>52173</td>\n",
       "      <td>0.805877</td>\n",
       "      <td>0.805877</td>\n",
       "      <td>0.269986</td>\n",
       "      <td>0.106680</td>\n",
       "      <td>0.301650</td>\n",
       "      <td>0.139386</td>\n",
       "    </tr>\n",
       "    <tr>\n",
       "      <th>2018-09-17</th>\n",
       "      <td>2018-09-17</td>\n",
       "      <td>6514.060059</td>\n",
       "      <td>6540.209961</td>\n",
       "      <td>6257.520020</td>\n",
       "      <td>6281.200195</td>\n",
       "      <td>6281.200195</td>\n",
       "      <td>3910780000</td>\n",
       "      <td>552</td>\n",
       "      <td>8.608696</td>\n",
       "      <td>8.608696</td>\n",
       "      <td>1.554348</td>\n",
       "      <td>0.039587</td>\n",
       "      <td>0.194086</td>\n",
       "      <td>0.061383</td>\n",
       "    </tr>\n",
       "  </tbody>\n",
       "</table>\n",
       "</div>"
      ],
      "text/plain": [
       "                  Date          Open          High           Low  \\\n",
       "Date                                                               \n",
       "2015-04-11  2015-04-11    236.016006    239.537003    234.175003   \n",
       "2016-08-27  2016-08-27    579.452026    579.844971    568.630005   \n",
       "2019-01-27  2019-01-27   3604.687256   3612.671387   3567.245850   \n",
       "2017-03-13  2017-03-13   1221.780029   1237.369995   1217.030029   \n",
       "2018-05-23  2018-05-23   8037.080078   8054.660156   7507.879883   \n",
       "2017-12-15  2017-12-15  16601.300781  18154.099609  16601.300781   \n",
       "2016-11-29  2016-11-29    736.328979    737.471008    734.559021   \n",
       "2018-04-25  2018-04-25   9701.030273   9745.320313   8799.839844   \n",
       "2019-05-22  2019-05-22   7956.291992   7997.612305   7615.987305   \n",
       "2018-09-17  2018-09-17   6514.060059   6540.209961   6257.520020   \n",
       "\n",
       "                   Close     Adj Close       Volume  num_tweets      likes  \\\n",
       "Date                                                                         \n",
       "2015-04-11    236.552002    236.552002     16365200         911   0.196487   \n",
       "2016-08-27    569.947021    569.947021     59698300         127   0.204724   \n",
       "2019-01-27   3583.965820   3583.965820   5570752966       18587   0.675580   \n",
       "2017-03-13   1231.920044   1231.920044    380276992         186   0.661290   \n",
       "2018-05-23   7557.819824   7557.819824   6491120128         702  13.437322   \n",
       "2017-12-15  17706.900391  17706.900391  14309999616         692  39.881503   \n",
       "2016-11-29    735.604004    735.604004     68511104         231   0.181818   \n",
       "2018-04-25   8845.740234   8845.740234  11083100160         548   4.114964   \n",
       "2019-05-22   7680.066406   7680.066406  24719473175       52173   0.805877   \n",
       "2018-09-17   6281.200195   6281.200195   3910780000         552   8.608696   \n",
       "\n",
       "             retweets   replies  tb_polarity  tb_subjectivity  vd_sentiment  \n",
       "Date                                                                         \n",
       "2015-04-11   0.196487  0.003293     0.010625         0.188332      0.040123  \n",
       "2016-08-27   0.204724  0.000000     0.044348         0.151335      0.010613  \n",
       "2019-01-27   0.675580  0.344111     0.104668         0.280521      0.142638  \n",
       "2017-03-13   0.661290  0.037634     0.044020         0.139118      0.002361  \n",
       "2018-05-23  13.437322  2.507123     0.023608         0.239505      0.060392  \n",
       "2017-12-15  39.881503  2.809249     0.036861         0.202554      0.046991  \n",
       "2016-11-29   0.181818  0.000000     0.050963         0.185103      0.086940  \n",
       "2018-04-25   4.114964  8.295620     0.038266         0.206546      0.061197  \n",
       "2019-05-22   0.805877  0.269986     0.106680         0.301650      0.139386  \n",
       "2018-09-17   8.608696  1.554348     0.039587         0.194086      0.061383  "
      ]
     },
     "execution_count": 9,
     "metadata": {},
     "output_type": "execute_result"
    }
   ],
   "source": [
    "btc_df.sample(10)"
   ]
  },
  {
   "cell_type": "markdown",
   "metadata": {
    "id": "nJVoDVdo_Jje"
   },
   "source": [
    "Lets remove the unwanted columns and add the lagged values to the dataset. \n"
   ]
  },
  {
   "cell_type": "code",
   "execution_count": 12,
   "metadata": {
    "execution": {
     "iopub.execute_input": "2022-11-10T03:35:29.781667Z",
     "iopub.status.busy": "2022-11-10T03:35:29.781401Z",
     "iopub.status.idle": "2022-11-10T03:35:29.788561Z",
     "shell.execute_reply": "2022-11-10T03:35:29.787931Z",
     "shell.execute_reply.started": "2022-11-10T03:35:29.781649Z"
    },
    "id": "FXk5auRRh2O6"
   },
   "outputs": [],
   "source": [
    "\n",
    "btc_df['lag_num_tweets'] = btc_df['num_tweets'].shift(1)\n",
    "btc_df['lag_tb_subjectivity'] = btc_df['tb_subjectivity'].shift(1)\n",
    "btc_df['lag_tb_polarity'] = btc_df['tb_polarity'].shift(1)\n",
    "btc_df['lag_vd_sentiment'] = btc_df['vd_sentiment'].shift(1)\n",
    "btc_df['lag_likes'] = btc_df['likes'].shift(1)\n",
    "btc_df['lag_replies'] = btc_df['replies'].shift(1)\n",
    "btc_df['lag_retweets'] = btc_df['retweets'].shift(1)"
   ]
  },
  {
   "cell_type": "code",
   "execution_count": 13,
   "metadata": {
    "colab": {
     "base_uri": "https://localhost:8080/",
     "height": 406
    },
    "execution": {
     "iopub.execute_input": "2022-11-10T03:35:32.875951Z",
     "iopub.status.busy": "2022-11-10T03:35:32.875680Z",
     "iopub.status.idle": "2022-11-10T03:35:32.891497Z",
     "shell.execute_reply": "2022-11-10T03:35:32.890980Z",
     "shell.execute_reply.started": "2022-11-10T03:35:32.875932Z"
    },
    "id": "xCMzGURV_oUc",
    "outputId": "81904bcc-f569-42f1-cb88-47b20628d5fd"
   },
   "outputs": [
    {
     "data": {
      "text/html": [
       "<div>\n",
       "<style scoped>\n",
       "    .dataframe tbody tr th:only-of-type {\n",
       "        vertical-align: middle;\n",
       "    }\n",
       "\n",
       "    .dataframe tbody tr th {\n",
       "        vertical-align: top;\n",
       "    }\n",
       "\n",
       "    .dataframe thead th {\n",
       "        text-align: right;\n",
       "    }\n",
       "</style>\n",
       "<table border=\"1\" class=\"dataframe\">\n",
       "  <thead>\n",
       "    <tr style=\"text-align: right;\">\n",
       "      <th></th>\n",
       "      <th>Date</th>\n",
       "      <th>Open</th>\n",
       "      <th>High</th>\n",
       "      <th>Low</th>\n",
       "      <th>Close</th>\n",
       "      <th>Adj Close</th>\n",
       "      <th>Volume</th>\n",
       "      <th>num_tweets</th>\n",
       "      <th>likes</th>\n",
       "      <th>retweets</th>\n",
       "      <th>...</th>\n",
       "      <th>tb_polarity</th>\n",
       "      <th>tb_subjectivity</th>\n",
       "      <th>vd_sentiment</th>\n",
       "      <th>lag_num_tweets</th>\n",
       "      <th>lag_tb_subjectivity</th>\n",
       "      <th>lag_tb_polarity</th>\n",
       "      <th>lag_vd_sentiment</th>\n",
       "      <th>lag_likes</th>\n",
       "      <th>lag_replies</th>\n",
       "      <th>lag_retweets</th>\n",
       "    </tr>\n",
       "    <tr>\n",
       "      <th>Date</th>\n",
       "      <th></th>\n",
       "      <th></th>\n",
       "      <th></th>\n",
       "      <th></th>\n",
       "      <th></th>\n",
       "      <th></th>\n",
       "      <th></th>\n",
       "      <th></th>\n",
       "      <th></th>\n",
       "      <th></th>\n",
       "      <th></th>\n",
       "      <th></th>\n",
       "      <th></th>\n",
       "      <th></th>\n",
       "      <th></th>\n",
       "      <th></th>\n",
       "      <th></th>\n",
       "      <th></th>\n",
       "      <th></th>\n",
       "      <th></th>\n",
       "      <th></th>\n",
       "    </tr>\n",
       "  </thead>\n",
       "  <tbody>\n",
       "    <tr>\n",
       "      <th>2014-09-17</th>\n",
       "      <td>2014-09-17</td>\n",
       "      <td>465.864014</td>\n",
       "      <td>468.174011</td>\n",
       "      <td>452.421997</td>\n",
       "      <td>457.334015</td>\n",
       "      <td>457.334015</td>\n",
       "      <td>21056800</td>\n",
       "      <td>412</td>\n",
       "      <td>0.570388</td>\n",
       "      <td>0.570388</td>\n",
       "      <td>...</td>\n",
       "      <td>0.026660</td>\n",
       "      <td>0.173957</td>\n",
       "      <td>0.120025</td>\n",
       "      <td>NaN</td>\n",
       "      <td>NaN</td>\n",
       "      <td>NaN</td>\n",
       "      <td>NaN</td>\n",
       "      <td>NaN</td>\n",
       "      <td>NaN</td>\n",
       "      <td>NaN</td>\n",
       "    </tr>\n",
       "    <tr>\n",
       "      <th>2014-09-18</th>\n",
       "      <td>2014-09-18</td>\n",
       "      <td>456.859985</td>\n",
       "      <td>456.859985</td>\n",
       "      <td>413.104004</td>\n",
       "      <td>424.440002</td>\n",
       "      <td>424.440002</td>\n",
       "      <td>34483200</td>\n",
       "      <td>424</td>\n",
       "      <td>0.429245</td>\n",
       "      <td>0.429245</td>\n",
       "      <td>...</td>\n",
       "      <td>0.020249</td>\n",
       "      <td>0.189769</td>\n",
       "      <td>0.127780</td>\n",
       "      <td>412.0</td>\n",
       "      <td>0.173957</td>\n",
       "      <td>0.026660</td>\n",
       "      <td>0.120025</td>\n",
       "      <td>0.570388</td>\n",
       "      <td>0.029126</td>\n",
       "      <td>0.570388</td>\n",
       "    </tr>\n",
       "    <tr>\n",
       "      <th>2014-09-19</th>\n",
       "      <td>2014-09-19</td>\n",
       "      <td>424.102997</td>\n",
       "      <td>427.834991</td>\n",
       "      <td>384.532013</td>\n",
       "      <td>394.795990</td>\n",
       "      <td>394.795990</td>\n",
       "      <td>37919700</td>\n",
       "      <td>440</td>\n",
       "      <td>0.354545</td>\n",
       "      <td>0.354545</td>\n",
       "      <td>...</td>\n",
       "      <td>0.011647</td>\n",
       "      <td>0.217529</td>\n",
       "      <td>0.110965</td>\n",
       "      <td>424.0</td>\n",
       "      <td>0.189769</td>\n",
       "      <td>0.020249</td>\n",
       "      <td>0.127780</td>\n",
       "      <td>0.429245</td>\n",
       "      <td>0.004717</td>\n",
       "      <td>0.429245</td>\n",
       "    </tr>\n",
       "    <tr>\n",
       "      <th>2014-09-20</th>\n",
       "      <td>2014-09-20</td>\n",
       "      <td>394.673004</td>\n",
       "      <td>423.295990</td>\n",
       "      <td>389.882996</td>\n",
       "      <td>408.903992</td>\n",
       "      <td>408.903992</td>\n",
       "      <td>36863600</td>\n",
       "      <td>439</td>\n",
       "      <td>0.416856</td>\n",
       "      <td>0.416856</td>\n",
       "      <td>...</td>\n",
       "      <td>0.022732</td>\n",
       "      <td>0.171126</td>\n",
       "      <td>0.121520</td>\n",
       "      <td>440.0</td>\n",
       "      <td>0.217529</td>\n",
       "      <td>0.011647</td>\n",
       "      <td>0.110965</td>\n",
       "      <td>0.354545</td>\n",
       "      <td>0.006818</td>\n",
       "      <td>0.354545</td>\n",
       "    </tr>\n",
       "    <tr>\n",
       "      <th>2014-09-21</th>\n",
       "      <td>2014-09-21</td>\n",
       "      <td>408.084991</td>\n",
       "      <td>412.425995</td>\n",
       "      <td>393.181000</td>\n",
       "      <td>398.821014</td>\n",
       "      <td>398.821014</td>\n",
       "      <td>26580100</td>\n",
       "      <td>377</td>\n",
       "      <td>0.480106</td>\n",
       "      <td>0.480106</td>\n",
       "      <td>...</td>\n",
       "      <td>0.011460</td>\n",
       "      <td>0.172655</td>\n",
       "      <td>0.125047</td>\n",
       "      <td>439.0</td>\n",
       "      <td>0.171126</td>\n",
       "      <td>0.022732</td>\n",
       "      <td>0.121520</td>\n",
       "      <td>0.416856</td>\n",
       "      <td>0.002278</td>\n",
       "      <td>0.416856</td>\n",
       "    </tr>\n",
       "  </tbody>\n",
       "</table>\n",
       "<p>5 rows × 21 columns</p>\n",
       "</div>"
      ],
      "text/plain": [
       "                  Date        Open        High         Low       Close  \\\n",
       "Date                                                                     \n",
       "2014-09-17  2014-09-17  465.864014  468.174011  452.421997  457.334015   \n",
       "2014-09-18  2014-09-18  456.859985  456.859985  413.104004  424.440002   \n",
       "2014-09-19  2014-09-19  424.102997  427.834991  384.532013  394.795990   \n",
       "2014-09-20  2014-09-20  394.673004  423.295990  389.882996  408.903992   \n",
       "2014-09-21  2014-09-21  408.084991  412.425995  393.181000  398.821014   \n",
       "\n",
       "             Adj Close    Volume  num_tweets     likes  retweets  ...  \\\n",
       "Date                                                              ...   \n",
       "2014-09-17  457.334015  21056800         412  0.570388  0.570388  ...   \n",
       "2014-09-18  424.440002  34483200         424  0.429245  0.429245  ...   \n",
       "2014-09-19  394.795990  37919700         440  0.354545  0.354545  ...   \n",
       "2014-09-20  408.903992  36863600         439  0.416856  0.416856  ...   \n",
       "2014-09-21  398.821014  26580100         377  0.480106  0.480106  ...   \n",
       "\n",
       "            tb_polarity  tb_subjectivity  vd_sentiment  lag_num_tweets  \\\n",
       "Date                                                                     \n",
       "2014-09-17     0.026660         0.173957      0.120025             NaN   \n",
       "2014-09-18     0.020249         0.189769      0.127780           412.0   \n",
       "2014-09-19     0.011647         0.217529      0.110965           424.0   \n",
       "2014-09-20     0.022732         0.171126      0.121520           440.0   \n",
       "2014-09-21     0.011460         0.172655      0.125047           439.0   \n",
       "\n",
       "            lag_tb_subjectivity  lag_tb_polarity  lag_vd_sentiment  lag_likes  \\\n",
       "Date                                                                            \n",
       "2014-09-17                  NaN              NaN               NaN        NaN   \n",
       "2014-09-18             0.173957         0.026660          0.120025   0.570388   \n",
       "2014-09-19             0.189769         0.020249          0.127780   0.429245   \n",
       "2014-09-20             0.217529         0.011647          0.110965   0.354545   \n",
       "2014-09-21             0.171126         0.022732          0.121520   0.416856   \n",
       "\n",
       "            lag_replies  lag_retweets  \n",
       "Date                                   \n",
       "2014-09-17          NaN           NaN  \n",
       "2014-09-18     0.029126      0.570388  \n",
       "2014-09-19     0.004717      0.429245  \n",
       "2014-09-20     0.006818      0.354545  \n",
       "2014-09-21     0.002278      0.416856  \n",
       "\n",
       "[5 rows x 21 columns]"
      ]
     },
     "execution_count": 13,
     "metadata": {},
     "output_type": "execute_result"
    }
   ],
   "source": [
    "btc_df.head()"
   ]
  },
  {
   "cell_type": "markdown",
   "metadata": {
    "id": "EuIPlR9Oicqz"
   },
   "source": [
    "# Setup the auto ARIMAX model\n",
    "\n",
    "## Setting up training and testing data.\n",
    "\n",
    "80% of the dats will be used for training and the reamining data will be used for testing."
   ]
  },
  {
   "cell_type": "code",
   "execution_count": 14,
   "metadata": {
    "colab": {
     "base_uri": "https://localhost:8080/"
    },
    "execution": {
     "iopub.execute_input": "2022-11-10T03:35:55.299965Z",
     "iopub.status.busy": "2022-11-10T03:35:55.299434Z",
     "iopub.status.idle": "2022-11-10T03:35:55.303750Z",
     "shell.execute_reply": "2022-11-10T03:35:55.303249Z",
     "shell.execute_reply.started": "2022-11-10T03:35:55.299943Z"
    },
    "id": "c7B6d-PTfKuC",
    "outputId": "0665edd9-87f4-4b73-fec9-c6201c7cdf11"
   },
   "outputs": [
    {
     "name": "stdout",
     "output_type": "stream",
     "text": [
      "1515\n",
      "379\n"
     ]
    }
   ],
   "source": [
    "train_data, test_data = btc_df.iloc[0:int(len(btc_df)*0.8), :], btc_df.iloc[int(len(btc_df)*0.8):, :]\n",
    "print(len(train_data))\n",
    "print(len(test_data))"
   ]
  },
  {
   "cell_type": "markdown",
   "metadata": {
    "id": "J0nwpAKqKDfH"
   },
   "source": [
    "####  Note: We are limiting our analysis on the open price of BTC."
   ]
  },
  {
   "cell_type": "code",
   "execution_count": 15,
   "metadata": {
    "colab": {
     "base_uri": "https://localhost:8080/",
     "height": 458
    },
    "execution": {
     "iopub.execute_input": "2022-11-10T03:35:57.772091Z",
     "iopub.status.busy": "2022-11-10T03:35:57.771548Z",
     "iopub.status.idle": "2022-11-10T03:35:57.897458Z",
     "shell.execute_reply": "2022-11-10T03:35:57.896907Z",
     "shell.execute_reply.started": "2022-11-10T03:35:57.772070Z"
    },
    "id": "Ti-s7p0u-OBV",
    "outputId": "3200a499-baf2-4bbe-c5ad-70b382fd9e80"
   },
   "outputs": [
    {
     "data": {
      "image/png": "[encoded data removed]",
      "text/plain": [
       "<Figure size 864x504 with 1 Axes>"
      ]
     },
     "metadata": {
      "needs_background": "light"
     },
     "output_type": "display_data"
    }
   ],
   "source": [
    "plt.figure(figsize=(12,7))\n",
    "plt.title('BTC Prices')\n",
    "plt.xlabel('Dates')\n",
    "plt.ylabel('Prices')\n",
    "plt.plot(train_data['Open'], 'blue', label='Training Data')\n",
    "plt.plot(test_data['Open'], 'green', label='Testing Data')\n",
    "plt.legend();"
   ]
  },
  {
   "cell_type": "markdown",
   "metadata": {
    "id": "mKMWAhcVicq2"
   },
   "source": [
    "### Auto ARIMAX model"
   ]
  },
  {
   "cell_type": "code",
   "execution_count": 10,
   "metadata": {
    "colab": {
     "base_uri": "https://localhost:8080/",
     "height": 805
    },
    "execution": {
     "iopub.execute_input": "2022-11-11T00:51:04.778040Z",
     "iopub.status.busy": "2022-11-11T00:51:04.777742Z",
     "iopub.status.idle": "2022-11-11T00:51:09.355119Z",
     "shell.execute_reply": "2022-11-11T00:51:09.354500Z",
     "shell.execute_reply.started": "2022-11-11T00:51:04.778016Z"
    },
    "id": "ivjXx85Bf_h2",
    "outputId": "0b0093bc-3818-4b5d-dd4f-8cad1982a1d3"
   },
   "outputs": [
    {
     "name": "stdout",
     "output_type": "stream",
     "text": [
      "Requirement already satisfied: pmdarima in /usr/local/lib/python3.9/dist-packages (2.0.1)\n",
      "Requirement already satisfied: joblib>=0.11 in /usr/local/lib/python3.9/dist-packages (from pmdarima) (1.1.0)\n",
      "Requirement already satisfied: statsmodels>=0.13.2 in /usr/local/lib/python3.9/dist-packages (from pmdarima) (0.13.5)\n",
      "Requirement already satisfied: numpy>=1.21 in /usr/local/lib/python3.9/dist-packages (from pmdarima) (1.23.1)\n",
      "Requirement already satisfied: Cython!=0.29.18,!=0.29.31,>=0.29 in /usr/local/lib/python3.9/dist-packages (from pmdarima) (0.29.30)\n",
      "Requirement already satisfied: setuptools!=50.0.0,>=38.6.0 in /usr/local/lib/python3.9/dist-packages (from pmdarima) (63.1.0)\n",
      "Requirement already satisfied: scikit-learn>=0.22 in /usr/local/lib/python3.9/dist-packages (from pmdarima) (1.1.1)\n",
      "Requirement already satisfied: pandas>=0.19 in /usr/local/lib/python3.9/dist-packages (from pmdarima) (1.4.3)\n",
      "Requirement already satisfied: scipy>=1.3.2 in /usr/local/lib/python3.9/dist-packages (from pmdarima) (1.8.1)\n",
      "Requirement already satisfied: urllib3 in /usr/local/lib/python3.9/dist-packages (from pmdarima) (1.26.10)\n",
      "Requirement already satisfied: pytz>=2020.1 in /usr/local/lib/python3.9/dist-packages (from pandas>=0.19->pmdarima) (2022.1)\n",
      "Requirement already satisfied: python-dateutil>=2.8.1 in /usr/local/lib/python3.9/dist-packages (from pandas>=0.19->pmdarima) (2.8.2)\n",
      "Requirement already satisfied: threadpoolctl>=2.0.0 in /usr/local/lib/python3.9/dist-packages (from scikit-learn>=0.22->pmdarima) (3.1.0)\n",
      "Requirement already satisfied: patsy>=0.5.2 in /usr/local/lib/python3.9/dist-packages (from statsmodels>=0.13.2->pmdarima) (0.5.3)\n",
      "Requirement already satisfied: packaging>=21.3 in /usr/local/lib/python3.9/dist-packages (from statsmodels>=0.13.2->pmdarima) (21.3)\n",
      "Requirement already satisfied: pyparsing!=3.0.5,>=2.0.2 in /usr/local/lib/python3.9/dist-packages (from packaging>=21.3->statsmodels>=0.13.2->pmdarima) (3.0.9)\n",
      "Requirement already satisfied: six in /usr/lib/python3/dist-packages (from patsy>=0.5.2->statsmodels>=0.13.2->pmdarima) (1.14.0)\n",
      "\u001b[33mWARNING: Running pip as the 'root' user can result in broken permissions and conflicting behaviour with the system package manager. It is recommended to use a virtual environment instead: https://pip.pypa.io/warnings/venv\u001b[0m\u001b[33m\n",
      "\u001b[0mPerforming stepwise search to minimize aic\n",
      " ARIMA(0,1,0)(0,0,0)[0] intercept   : AIC=21250.281, Time=0.03 sec\n",
      " ARIMA(1,1,0)(0,0,0)[0] intercept   : AIC=21243.250, Time=0.05 sec\n",
      " ARIMA(0,1,1)(0,0,0)[0] intercept   : AIC=21242.618, Time=0.12 sec\n",
      " ARIMA(0,1,0)(0,0,0)[0]             : AIC=21248.606, Time=0.02 sec\n",
      " ARIMA(1,1,1)(0,0,0)[0] intercept   : AIC=21231.694, Time=0.28 sec\n",
      " ARIMA(2,1,1)(0,0,0)[0] intercept   : AIC=21244.572, Time=0.21 sec\n",
      " ARIMA(1,1,2)(0,0,0)[0] intercept   : AIC=21244.970, Time=0.13 sec\n",
      " ARIMA(0,1,2)(0,0,0)[0] intercept   : AIC=21242.937, Time=0.09 sec\n",
      " ARIMA(2,1,0)(0,0,0)[0] intercept   : AIC=21243.186, Time=0.06 sec\n",
      " ARIMA(2,1,2)(0,0,0)[0] intercept   : AIC=21235.652, Time=0.43 sec\n",
      " ARIMA(1,1,1)(0,0,0)[0]             : AIC=21229.949, Time=0.14 sec\n",
      " ARIMA(0,1,1)(0,0,0)[0]             : AIC=21240.894, Time=0.05 sec\n",
      " ARIMA(1,1,0)(0,0,0)[0]             : AIC=21241.527, Time=0.03 sec\n",
      " ARIMA(2,1,1)(0,0,0)[0]             : AIC=21242.779, Time=0.05 sec\n",
      " ARIMA(1,1,2)(0,0,0)[0]             : AIC=21243.264, Time=0.06 sec\n",
      " ARIMA(0,1,2)(0,0,0)[0]             : AIC=21241.236, Time=0.04 sec\n",
      " ARIMA(2,1,0)(0,0,0)[0]             : AIC=21241.484, Time=0.03 sec\n",
      " ARIMA(2,1,2)(0,0,0)[0]             : AIC=21233.708, Time=0.23 sec\n",
      "\n",
      "Best model:  ARIMA(1,1,1)(0,0,0)[0]          \n",
      "Total fit time: 2.036 seconds\n"
     ]
    },
    {
     "data": {
      "text/html": [
       "<table class=\"simpletable\">\n",
       "<caption>SARIMAX Results</caption>\n",
       "<tr>\n",
       "  <th>Dep. Variable:</th>           <td>y</td>        <th>  No. Observations:  </th>    <td>1515</td>   \n",
       "</tr>\n",
       "<tr>\n",
       "  <th>Model:</th>           <td>SARIMAX(1, 1, 1)</td> <th>  Log Likelihood     </th> <td>-10611.975</td>\n",
       "</tr>\n",
       "<tr>\n",
       "  <th>Date:</th>            <td>Fri, 11 Nov 2022</td> <th>  AIC                </th>  <td>21229.949</td>\n",
       "</tr>\n",
       "<tr>\n",
       "  <th>Time:</th>                <td>00:51:09</td>     <th>  BIC                </th>  <td>21245.917</td>\n",
       "</tr>\n",
       "<tr>\n",
       "  <th>Sample:</th>             <td>09-17-2014</td>    <th>  HQIC               </th>  <td>21235.895</td>\n",
       "</tr>\n",
       "<tr>\n",
       "  <th></th>                   <td>- 11-09-2018</td>   <th>                     </th>      <td> </td>    \n",
       "</tr>\n",
       "<tr>\n",
       "  <th>Covariance Type:</th>        <td>opg</td>       <th>                     </th>      <td> </td>    \n",
       "</tr>\n",
       "</table>\n",
       "<table class=\"simpletable\">\n",
       "<tr>\n",
       "     <td></td>       <th>coef</th>     <th>std err</th>      <th>z</th>      <th>P>|z|</th>  <th>[0.025</th>    <th>0.975]</th>  \n",
       "</tr>\n",
       "<tr>\n",
       "  <th>ar.L1</th>  <td>   -0.7247</td> <td>    0.031</td> <td>  -23.167</td> <td> 0.000</td> <td>   -0.786</td> <td>   -0.663</td>\n",
       "</tr>\n",
       "<tr>\n",
       "  <th>ma.L1</th>  <td>    0.8093</td> <td>    0.028</td> <td>   29.056</td> <td> 0.000</td> <td>    0.755</td> <td>    0.864</td>\n",
       "</tr>\n",
       "<tr>\n",
       "  <th>sigma2</th> <td> 7.172e+04</td> <td>  658.115</td> <td>  108.980</td> <td> 0.000</td> <td> 7.04e+04</td> <td>  7.3e+04</td>\n",
       "</tr>\n",
       "</table>\n",
       "<table class=\"simpletable\">\n",
       "<tr>\n",
       "  <th>Ljung-Box (L1) (Q):</th>      <td>0.03</td>   <th>  Jarque-Bera (JB):  </th> <td>84985.41</td>\n",
       "</tr>\n",
       "<tr>\n",
       "  <th>Prob(Q):</th>                 <td>0.87</td>   <th>  Prob(JB):          </th>   <td>0.00</td>  \n",
       "</tr>\n",
       "<tr>\n",
       "  <th>Heteroskedasticity (H):</th> <td>1744.87</td> <th>  Skew:              </th>   <td>1.08</td>  \n",
       "</tr>\n",
       "<tr>\n",
       "  <th>Prob(H) (two-sided):</th>     <td>0.00</td>   <th>  Kurtosis:          </th>   <td>39.64</td> \n",
       "</tr>\n",
       "</table><br/><br/>Warnings:<br/>[1] Covariance matrix calculated using the outer product of gradients (complex-step)."
      ],
      "text/plain": [
       "<class 'statsmodels.iolib.summary.Summary'>\n",
       "\"\"\"\n",
       "                               SARIMAX Results                                \n",
       "==============================================================================\n",
       "Dep. Variable:                      y   No. Observations:                 1515\n",
       "Model:               SARIMAX(1, 1, 1)   Log Likelihood              -10611.975\n",
       "Date:                Fri, 11 Nov 2022   AIC                          21229.949\n",
       "Time:                        00:51:09   BIC                          21245.917\n",
       "Sample:                    09-17-2014   HQIC                         21235.895\n",
       "                         - 11-09-2018                                         \n",
       "Covariance Type:                  opg                                         \n",
       "==============================================================================\n",
       "                 coef    std err          z      P>|z|      [0.025      0.975]\n",
       "------------------------------------------------------------------------------\n",
       "ar.L1         -0.7247      0.031    -23.167      0.000      -0.786      -0.663\n",
       "ma.L1          0.8093      0.028     29.056      0.000       0.755       0.864\n",
       "sigma2      7.172e+04    658.115    108.980      0.000    7.04e+04     7.3e+04\n",
       "===================================================================================\n",
       "Ljung-Box (L1) (Q):                   0.03   Jarque-Bera (JB):             84985.41\n",
       "Prob(Q):                              0.87   Prob(JB):                         0.00\n",
       "Heteroskedasticity (H):            1744.87   Skew:                             1.08\n",
       "Prob(H) (two-sided):                  0.00   Kurtosis:                        39.64\n",
       "===================================================================================\n",
       "\n",
       "Warnings:\n",
       "[1] Covariance matrix calculated using the outer product of gradients (complex-step).\n",
       "\"\"\""
      ]
     },
     "execution_count": 10,
     "metadata": {},
     "output_type": "execute_result"
    }
   ],
   "source": [
    "!pip install pmdarima\n",
    "import pmdarima as pmd\n",
    "#names.append(\"Auto ARIMA\")\n",
    "exogenous_features=['lag_num_tweets','lag_tb_subjectivity','lag_tb_polarity','lag_vd_sentiment']\n",
    "autoarima_model = pmd.auto_arima(train_data['Open'],start_p=0, max_p=5,start_q=0,max_q=5,test=\"adf\",\n",
    "                              exogenous=train_data[exogenous_features],trace=True)\n",
    "\n",
    "\n",
    "autoarima_model.fit(train_data.Open, exogenous=train_data[exogenous_features])\n",
    "\n",
    "\n",
    "autoarima_model.summary()\n"
   ]
  },
  {
   "cell_type": "markdown",
   "metadata": {
    "id": "bWL814pMicq3"
   },
   "source": [
    "Now use the auto arima model we found to predict the resul "
   ]
  },
  {
   "cell_type": "code",
   "execution_count": 11,
   "metadata": {
    "colab": {
     "base_uri": "https://localhost:8080/"
    },
    "execution": {
     "iopub.execute_input": "2022-11-11T00:51:27.435696Z",
     "iopub.status.busy": "2022-11-11T00:51:27.434847Z",
     "iopub.status.idle": "2022-11-11T00:52:14.445831Z",
     "shell.execute_reply": "2022-11-11T00:52:14.445038Z",
     "shell.execute_reply.started": "2022-11-11T00:51:27.435667Z"
    },
    "id": "1BWxkN2ZhDGq",
    "outputId": "4729e4dc-8826-4d21-9390-39836c6de494"
   },
   "outputs": [
    {
     "name": "stdout",
     "output_type": "stream",
     "text": [
      "Test Series Point: 0\tPredicted=6428.585692547266, Expected=6386.129883\n",
      "Test Series Point: 100\tPredicted=3640.949576861324, Expected=3671.369873\n",
      "Test Series Point: 200\tPredicted=8801.5286066003, Expected=8718.591797\n",
      "Test Series Point: 300\tPredicted=10592.574575777462, Expected=10578.198242\n"
     ]
    }
   ],
   "source": [
    "test_series = test_data['Open']\n",
    "train_series = train_data['Open']\n",
    "\n",
    "history = [x for x in train_series]\n",
    "history_exo=[x for x in train_data[exogenous_features]]\n",
    "\n",
    "auto_arima_predictions = list()\n",
    "for t in range(len(test_series)):\n",
    "\n",
    "    #call the ARIMA Method with history and params\n",
    "    #model = ARIMA(history,order=(10,1,0))  # initialize the model with history and right order of parameters\n",
    "    model_fit = autoarima_model.fit(history)#,exogenous=history_exo)  # fit the model\n",
    "  \n",
    "\n",
    "    output = model_fit.predict(n_periods=1)#,exogenous=train_data[exogenous_features].iloc[t])  # use forecast on the fitted model\n",
    "    #print(output,t)\n",
    "    yhat = output[0]\n",
    "    auto_arima_predictions.append(yhat)\n",
    "\n",
    "    obs = test_series[t]\n",
    "    history.append(obs)\n",
    "    #obs_exo=train_data[exogenous_features][t]\n",
    "    #history_exo.append(obs_exo)\n",
    "\n",
    "    if t % 100 == 0:\n",
    "      print('Test Series Point: {}\\tPredicted={}, Expected={}'.format(t, yhat, obs))"
   ]
  },
  {
   "cell_type": "code",
   "execution_count": 20,
   "metadata": {
    "colab": {
     "base_uri": "https://localhost:8080/"
    },
    "execution": {
     "iopub.execute_input": "2022-11-10T03:37:57.470022Z",
     "iopub.status.busy": "2022-11-10T03:37:57.469462Z",
     "iopub.status.idle": "2022-11-10T03:37:57.476073Z",
     "shell.execute_reply": "2022-11-10T03:37:57.475532Z",
     "shell.execute_reply.started": "2022-11-10T03:37:57.470000Z"
    },
    "id": "1WT6tACgDHl0",
    "outputId": "da14b7d6-ead0-460b-8e03-1a057f778dea"
   },
   "outputs": [
    {
     "name": "stdout",
     "output_type": "stream",
     "text": [
      "Auto ARIMA Testing Mean Squared Error: 102050.342\n",
      "Auto ARIMA Symmetric Mean absolute percentage error: 2.644\n"
     ]
    }
   ],
   "source": [
    "error = mean_squared_error(test_series, auto_arima_predictions)\n",
    "print('Auto ARIMA Testing Mean Squared Error: %.3f' % error)\n",
    "error2 = smape_kun(test_series, auto_arima_predictions)\n",
    "print('Auto ARIMA Symmetric Mean absolute percentage error: %.3f' % error2)\n",
    "\n",
    "\n",
    "\n",
    "auto_arima_predictions_series = pd.Series(auto_arima_predictions)\n",
    "auto_arima_predictions_series.index = test_series.index"
   ]
  },
  {
   "cell_type": "markdown",
   "metadata": {
    "id": "fcM7rwQFCqHL"
   },
   "source": [
    "# Time Series Forecasting with Deep Learning\n",
    "\n",
    "Here we use LSTM for time series prediction."
   ]
  },
  {
   "cell_type": "code",
   "execution_count": 14,
   "metadata": {
    "execution": {
     "iopub.execute_input": "2022-11-11T01:09:14.945867Z",
     "iopub.status.busy": "2022-11-11T01:09:14.945459Z",
     "iopub.status.idle": "2022-11-11T01:09:16.726508Z",
     "shell.execute_reply": "2022-11-11T01:09:16.725878Z",
     "shell.execute_reply.started": "2022-11-11T01:09:14.945833Z"
    },
    "id": "Y4Fo2a_Rg5_w"
   },
   "outputs": [],
   "source": [
    "# Let's load the libraries and dependencies for the deep learning model\n",
    "from sklearn.preprocessing import MinMaxScaler\n",
    "\n",
    "#%tensorflow_version 1.x\n",
    "from tensorflow.keras.models import Sequential\n",
    "from tensorflow.keras.layers import Dense, LSTM, Dropout, GRU, Bidirectional\n",
    "from tensorflow.keras.optimizers import SGD"
   ]
  },
  {
   "cell_type": "markdown",
   "metadata": {
    "id": "Nvliw7fqMCcF"
   },
   "source": [
    "## Build Train-Test Datasets"
   ]
  },
  {
   "cell_type": "code",
   "execution_count": 15,
   "metadata": {
    "colab": {
     "base_uri": "https://localhost:8080/"
    },
    "execution": {
     "iopub.execute_input": "2022-11-11T01:09:17.951484Z",
     "iopub.status.busy": "2022-11-11T01:09:17.950155Z",
     "iopub.status.idle": "2022-11-11T01:09:17.957663Z",
     "shell.execute_reply": "2022-11-11T01:09:17.956795Z",
     "shell.execute_reply.started": "2022-11-11T01:09:17.951441Z"
    },
    "id": "e51pJz3Ajs0u",
    "outputId": "fc27319b-96b2-4e9c-a53f-6d510d7463e8"
   },
   "outputs": [
    {
     "data": {
      "text/plain": [
       "((1515,), (379,))"
      ]
     },
     "execution_count": 15,
     "metadata": {},
     "output_type": "execute_result"
    }
   ],
   "source": [
    "# Splitting the train and test set considering 'Open' feature from the dataset\n",
    "#train_data, test_data = btc_price.iloc[0:int(len(btc_price)*0.8), :], btc_price.iloc[int(len(btc_price)*0.8):, :]\n",
    "train_series = train_data['Open']\n",
    "test_series = test_data['Open']\n",
    "train_num_tweets_series = train_data['lag_num_tweets']\n",
    "test_num_tweets_series = test_data['lag_num_tweets']\n",
    "\n",
    "train_vd_sent_series = train_data['lag_vd_sentiment']\n",
    "test_vd_sent_series = test_data['lag_vd_sentiment']\n",
    "\n",
    "#train_fl_sent_series = train_data['lag_fl_sentiment']\n",
    "#test_fl_sent_series = test_data['lag_fl_sentiment']\n",
    "\n",
    "\n",
    "train_tb_sent_series = train_data['lag_tb_polarity']\n",
    "test_tb_sent_series = test_data['lag_tb_polarity']\n",
    "\n",
    "train_tb_subj_series = train_data['lag_tb_subjectivity']\n",
    "test_tb_subj_series = test_data['lag_tb_subjectivity']\n",
    "\n",
    "train_series.shape, test_series.shape"
   ]
  },
  {
   "cell_type": "markdown",
   "metadata": {
    "id": "k8f0sPbUMvg7"
   },
   "source": [
    "### Scaling\n",
    "As stock prices can vary across a wide range, we scale the data to have zero mean and unit variance. This is done to ensure that the gradient descent is sooner when learning a deep learning model"
   ]
  },
  {
   "cell_type": "code",
   "execution_count": 16,
   "metadata": {
    "execution": {
     "iopub.execute_input": "2022-11-11T01:09:21.007754Z",
     "iopub.status.busy": "2022-11-11T01:09:21.007177Z",
     "iopub.status.idle": "2022-11-11T01:09:21.014172Z",
     "shell.execute_reply": "2022-11-11T01:09:21.013466Z",
     "shell.execute_reply.started": "2022-11-11T01:09:21.007728Z"
    },
    "id": "-7D3Hvo_kC2F"
   },
   "outputs": [],
   "source": [
    "sc = MinMaxScaler(feature_range=(0,1))\n",
    "training_set_scaled = sc.fit_transform(train_data[['Open']])"
   ]
  },
  {
   "cell_type": "markdown",
   "metadata": {
    "id": "aEaPD_p2Nu87"
   },
   "source": [
    "### Train Data Preparation\n",
    "\n",
    "Train data uses the previous 60 days (two months) data to predict the stock price of the next day.\n",
    "The data is prepared just like a sliding window approach, where\n",
    "*window_size = 60*\n"
   ]
  },
  {
   "cell_type": "code",
   "execution_count": 17,
   "metadata": {
    "colab": {
     "base_uri": "https://localhost:8080/"
    },
    "execution": {
     "iopub.execute_input": "2022-11-11T01:09:24.951459Z",
     "iopub.status.busy": "2022-11-11T01:09:24.950832Z",
     "iopub.status.idle": "2022-11-11T01:09:24.986434Z",
     "shell.execute_reply": "2022-11-11T01:09:24.985779Z",
     "shell.execute_reply.started": "2022-11-11T01:09:24.951435Z"
    },
    "id": "3LHfiLnhkGpN",
    "outputId": "345a3bfd-846e-4e31-f174-3f65e05db14c"
   },
   "outputs": [
    {
     "name": "stdout",
     "output_type": "stream",
     "text": [
      "<class 'numpy.ndarray'>\n"
     ]
    },
    {
     "data": {
      "text/plain": [
       "((1455, 64), (1455,))"
      ]
     },
     "execution_count": 17,
     "metadata": {},
     "output_type": "execute_result"
    }
   ],
   "source": [
    "#1 output and 60 values inputs\n",
    "# So for each element of training set (output), we have 60 previous training set elements (input)\n",
    "X_train = []\n",
    "y_train = []\n",
    "print(type(training_set_scaled[89-60:89,0]))\n",
    "for i in range(60, len(training_set_scaled)):\n",
    "    temp=np.append(training_set_scaled[i-60:i,0],train_vd_sent_series[i])\n",
    "    temp=np.append(temp,train_tb_sent_series[i])\n",
    "    temp=np.append(temp,train_tb_subj_series[i])\n",
    "    #temp=np.append(temp,train_fl_sent_series[i])\n",
    "    temp=np.append(temp,train_num_tweets_series[i])\n",
    "    X_train.append(temp)#;train_hf_sent_series[i]])\n",
    "    y_train.append(training_set_scaled[i,0])\n",
    "X_train, y_train = np.array(X_train), np.array(y_train)\n",
    "X_train.shape, y_train.shape"
   ]
  },
  {
   "cell_type": "markdown",
   "metadata": {
    "id": "YdzzWChQROAg"
   },
   "source": [
    "#### Reshape X_train\n",
    "\n"
   ]
  },
  {
   "cell_type": "code",
   "execution_count": 18,
   "metadata": {
    "colab": {
     "base_uri": "https://localhost:8080/"
    },
    "execution": {
     "iopub.execute_input": "2022-11-11T01:09:27.097014Z",
     "iopub.status.busy": "2022-11-11T01:09:27.096256Z",
     "iopub.status.idle": "2022-11-11T01:09:27.102957Z",
     "shell.execute_reply": "2022-11-11T01:09:27.102233Z",
     "shell.execute_reply.started": "2022-11-11T01:09:27.096977Z"
    },
    "id": "KQRlDlXMkKCV",
    "outputId": "8707ead7-cd68-443f-8faf-07be7ce6eaa9"
   },
   "outputs": [
    {
     "data": {
      "text/plain": [
       "(1455, 64, 1)"
      ]
     },
     "execution_count": 18,
     "metadata": {},
     "output_type": "execute_result"
    }
   ],
   "source": [
    "# Reshaping X_train for efficient modeling\n",
    "X_train = np.reshape(X_train, (X_train.shape[0],X_train.shape[1], 1))\n",
    "X_train.shape"
   ]
  },
  {
   "cell_type": "markdown",
   "metadata": {
    "id": "PIrlm79SVn5i"
   },
   "source": [
    "### LSTM Regression model\n",
    "\n",
    "We use  [LSTM](https://www.tensorflow.org/api_docs/python/tf/keras/layers/LSTM):\n",
    "*   units - output dimensions\n",
    "*   return_sequences is set to True to get all the hidden state vectors information\n",
    "\n",
    "The model uses 2 LSTM layers followed by a Dense Layer with a single neuron to output regression prediction."
   ]
  },
  {
   "cell_type": "markdown",
   "metadata": {
    "id": "WY8_dnNPicrL"
   },
   "source": [
    "### Building the LSTM based forecasting DL Model architecture\n"
   ]
  },
  {
   "cell_type": "code",
   "execution_count": 19,
   "metadata": {
    "colab": {
     "base_uri": "https://localhost:8080/"
    },
    "execution": {
     "iopub.execute_input": "2022-11-11T01:09:29.725180Z",
     "iopub.status.busy": "2022-11-11T01:09:29.724885Z",
     "iopub.status.idle": "2022-11-11T01:09:31.689180Z",
     "shell.execute_reply": "2022-11-11T01:09:31.688233Z",
     "shell.execute_reply.started": "2022-11-11T01:09:29.725158Z"
    },
    "id": "Vhe8p4iqkPfB",
    "outputId": "8726e4e7-da1f-463a-bdf9-e449ecdefaf0"
   },
   "outputs": [
    {
     "name": "stdout",
     "output_type": "stream",
     "text": [
      "Model: \"sequential\"\n",
      "_________________________________________________________________\n",
      " Layer (type)                Output Shape              Param #   \n",
      "=================================================================\n",
      " lstm (LSTM)                 (None, 64, 64)            16896     \n",
      "                                                                 \n",
      " dropout (Dropout)           (None, 64, 64)            0         \n",
      "                                                                 \n",
      " lstm_1 (LSTM)               (None, 64)                33024     \n",
      "                                                                 \n",
      " dropout_1 (Dropout)         (None, 64)                0         \n",
      "                                                                 \n",
      " dense (Dense)               (None, 1)                 65        \n",
      "                                                                 \n",
      "=================================================================\n",
      "Total params: 49,985\n",
      "Trainable params: 49,985\n",
      "Non-trainable params: 0\n",
      "_________________________________________________________________\n"
     ]
    }
   ],
   "source": [
    "\n",
    "regressor = Sequential()\n",
    "\n",
    "# First LSTM layer with Dropout regularisation\n",
    "regressor.add(LSTM(units=64, return_sequences=True, input_shape=(X_train.shape[1],1)))\n",
    "regressor.add(Dropout(0.2))\n",
    "'''\n",
    "# Second LSTM layer\n",
    "regressor.add(LSTM(units=64, return_sequences=True,input_shape=(64,1)))\n",
    "regressor.add(Dropout(0.2))\n",
    "\n",
    "'''\n",
    "# Second LSTM layer\n",
    "regressor.add(LSTM(units=64, return_sequences=False,input_shape=(64,1)))\n",
    "regressor.add(Dropout(0.2))\n",
    "# The output layer\n",
    "regressor.add(Dense(units=1))\n",
    "\n",
    "# Compiling the RNN - optimizer(rmsprop)and loss(mean squared error)\n",
    "\n",
    "regressor.compile(optimizer='rmsprop',loss='mse')\n",
    "regressor.summary()"
   ]
  },
  {
   "cell_type": "markdown",
   "metadata": {
    "id": "ZfNQcBXTicrL"
   },
   "source": [
    "### Train the model"
   ]
  },
  {
   "cell_type": "code",
   "execution_count": 29,
   "metadata": {
    "colab": {
     "base_uri": "https://localhost:8080/"
    },
    "execution": {
     "iopub.execute_input": "2022-11-11T01:26:15.744773Z",
     "iopub.status.busy": "2022-11-11T01:26:15.744468Z",
     "iopub.status.idle": "2022-11-11T01:26:19.237416Z",
     "shell.execute_reply": "2022-11-11T01:26:19.236637Z",
     "shell.execute_reply.started": "2022-11-11T01:26:15.744750Z"
    },
    "id": "MBRin4eMAsT_",
    "outputId": "5f9574f3-68fd-41d5-e025-70d6ddaaa752"
   },
   "outputs": [
    {
     "name": "stdout",
     "output_type": "stream",
     "text": [
      "Epoch 1/15\n",
      "21/21 [==============================] - 0s 13ms/step - loss: 0.0018 - val_loss: 6.9367e-04\n",
      "Epoch 2/15\n",
      "21/21 [==============================] - 0s 12ms/step - loss: 0.0016 - val_loss: 0.0025\n",
      "Epoch 3/15\n",
      "21/21 [==============================] - 0s 11ms/step - loss: 0.0014 - val_loss: 0.0031\n",
      "Epoch 4/15\n",
      "21/21 [==============================] - 0s 10ms/step - loss: 0.0016 - val_loss: 0.0058\n",
      "Epoch 5/15\n",
      "21/21 [==============================] - 0s 12ms/step - loss: 0.0015 - val_loss: 4.5233e-04\n",
      "Epoch 6/15\n",
      "21/21 [==============================] - 0s 12ms/step - loss: 0.0014 - val_loss: 0.0161\n",
      "Epoch 7/15\n",
      "21/21 [==============================] - 0s 9ms/step - loss: 0.0018 - val_loss: 0.0111\n",
      "Epoch 8/15\n",
      "21/21 [==============================] - 0s 10ms/step - loss: 0.0013 - val_loss: 0.0025\n",
      "Epoch 9/15\n",
      "21/21 [==============================] - 0s 11ms/step - loss: 0.0015 - val_loss: 6.0621e-04\n",
      "Epoch 10/15\n",
      "21/21 [==============================] - 0s 11ms/step - loss: 0.0013 - val_loss: 3.3445e-04\n",
      "Epoch 11/15\n",
      "21/21 [==============================] - 0s 11ms/step - loss: 0.0015 - val_loss: 0.0033\n",
      "Epoch 12/15\n",
      "21/21 [==============================] - 0s 12ms/step - loss: 0.0011 - val_loss: 2.6758e-04\n",
      "Epoch 13/15\n",
      "21/21 [==============================] - 0s 11ms/step - loss: 0.0011 - val_loss: 9.3274e-04\n",
      "Epoch 14/15\n",
      "21/21 [==============================] - 0s 10ms/step - loss: 0.0014 - val_loss: 0.0016\n",
      "Epoch 15/15\n",
      "21/21 [==============================] - 0s 10ms/step - loss: 0.0013 - val_loss: 8.4042e-04\n"
     ]
    },
    {
     "data": {
      "text/plain": [
       "<keras.callbacks.History at 0x7fd8ac0e6520>"
      ]
     },
     "execution_count": 29,
     "metadata": {},
     "output_type": "execute_result"
    }
   ],
   "source": [
    "regressor.fit(X_train,y_train, epochs=15, batch_size=64, validation_split=0.1, shuffle=True)"
   ]
  },
  {
   "cell_type": "markdown",
   "metadata": {
    "id": "tXyIJG9vauFj"
   },
   "source": [
    "### Test Data Forecasting\n",
    "\n"
   ]
  },
  {
   "cell_type": "code",
   "execution_count": 30,
   "metadata": {
    "colab": {
     "base_uri": "https://localhost:8080/"
    },
    "execution": {
     "iopub.execute_input": "2022-11-11T01:26:22.821521Z",
     "iopub.status.busy": "2022-11-11T01:26:22.820724Z",
     "iopub.status.idle": "2022-11-11T01:26:22.827363Z",
     "shell.execute_reply": "2022-11-11T01:26:22.826437Z",
     "shell.execute_reply.started": "2022-11-11T01:26:22.821481Z"
    },
    "id": "4mLalxGGCxzf",
    "outputId": "3b55eea9-e37c-47fd-806c-7f2cb8a7149c"
   },
   "outputs": [
    {
     "name": "stdout",
     "output_type": "stream",
     "text": [
      "(60,)\n"
     ]
    },
    {
     "data": {
      "text/plain": [
       "(379,)"
      ]
     },
     "execution_count": 30,
     "metadata": {},
     "output_type": "execute_result"
    }
   ],
   "source": [
    "train_last60 = train_series[-60:]\n",
    "print(train_last60.shape)\n",
    "test_series.shape"
   ]
  },
  {
   "cell_type": "markdown",
   "metadata": {
    "id": "da_H7acyicrM"
   },
   "source": [
    "### Combine both train_last60 and test_series together \n",
    "\n"
   ]
  },
  {
   "cell_type": "code",
   "execution_count": 31,
   "metadata": {
    "colab": {
     "base_uri": "https://localhost:8080/"
    },
    "execution": {
     "iopub.execute_input": "2022-11-11T01:26:24.579926Z",
     "iopub.status.busy": "2022-11-11T01:26:24.579201Z",
     "iopub.status.idle": "2022-11-11T01:26:24.584697Z",
     "shell.execute_reply": "2022-11-11T01:26:24.583926Z",
     "shell.execute_reply.started": "2022-11-11T01:26:24.579893Z"
    },
    "id": "_XrJWDeZC_nG",
    "outputId": "2b94391f-550f-4b50-91f8-3efb67521981"
   },
   "outputs": [
    {
     "name": "stdout",
     "output_type": "stream",
     "text": [
      "(439,)\n"
     ]
    }
   ],
   "source": [
    "new_test_series =  pd.concat([train_last60,test_series],axis=0)\n",
    "print(new_test_series.shape)\n"
   ]
  },
  {
   "cell_type": "code",
   "execution_count": 32,
   "metadata": {
    "execution": {
     "iopub.execute_input": "2022-11-11T01:26:26.067104Z",
     "iopub.status.busy": "2022-11-11T01:26:26.066537Z",
     "iopub.status.idle": "2022-11-11T01:26:26.070693Z",
     "shell.execute_reply": "2022-11-11T01:26:26.070114Z",
     "shell.execute_reply.started": "2022-11-11T01:26:26.067080Z"
    },
    "id": "E6EEBJmFkRsB"
   },
   "outputs": [],
   "source": [
    "test_set_scaled = sc.fit_transform(new_test_series.values.reshape(-1,1))"
   ]
  },
  {
   "cell_type": "markdown",
   "metadata": {
    "id": "DdqNkX31icrN"
   },
   "source": [
    "### Prepare Test dataset Windows of 60  days each"
   ]
  },
  {
   "cell_type": "code",
   "execution_count": 33,
   "metadata": {
    "colab": {
     "base_uri": "https://localhost:8080/"
    },
    "execution": {
     "iopub.execute_input": "2022-11-11T01:26:28.391969Z",
     "iopub.status.busy": "2022-11-11T01:26:28.391258Z",
     "iopub.status.idle": "2022-11-11T01:26:28.408119Z",
     "shell.execute_reply": "2022-11-11T01:26:28.407300Z",
     "shell.execute_reply.started": "2022-11-11T01:26:28.391942Z"
    },
    "id": "ja7H-jR0kWvX",
    "outputId": "3884f9dd-0d1c-4011-b706-30ab6109078a"
   },
   "outputs": [
    {
     "name": "stdout",
     "output_type": "stream",
     "text": [
      "(379,)\n",
      "(439, 1)\n"
     ]
    },
    {
     "data": {
      "text/plain": [
       "(379, 64, 1)"
      ]
     },
     "execution_count": 33,
     "metadata": {},
     "output_type": "execute_result"
    }
   ],
   "source": [
    "# Preparing X_test and predicting the prices\n",
    "X_test = []\n",
    "print(test_vd_sent_series.shape)\n",
    "print(test_set_scaled.shape)\n",
    "for i in range(60,len(test_set_scaled)):\n",
    "\n",
    "    temp=np.append(test_set_scaled[i-60:i,0],train_vd_sent_series[i])\n",
    "    temp=np.append(temp,train_tb_sent_series[i])\n",
    "    temp=np.append(temp,train_tb_subj_series[i])\n",
    "    #temp=np.append(temp,train_fl_sent_series[i])\n",
    "    temp=np.append(temp,train_num_tweets_series[i])\n",
    "    X_test.append(temp)\n",
    "\n",
    "X_test = np.array(X_test)\n",
    "X_test = np.reshape(X_test, (X_test.shape[0],X_test.shape[1],1))\n",
    "X_test.shape"
   ]
  },
  {
   "cell_type": "markdown",
   "metadata": {
    "id": "QqPlKU2DicrO"
   },
   "source": [
    "### Model Prediction and Reverse Transform of Prices"
   ]
  },
  {
   "cell_type": "code",
   "execution_count": 34,
   "metadata": {
    "colab": {
     "base_uri": "https://localhost:8080/"
    },
    "execution": {
     "iopub.execute_input": "2022-11-11T01:26:31.370837Z",
     "iopub.status.busy": "2022-11-11T01:26:31.370189Z",
     "iopub.status.idle": "2022-11-11T01:26:31.451055Z",
     "shell.execute_reply": "2022-11-11T01:26:31.450025Z",
     "shell.execute_reply.started": "2022-11-11T01:26:31.370813Z"
    },
    "id": "BBQ-3C53DZ5W",
    "outputId": "c7b21e0a-588f-459b-a924-f4019a71fba2"
   },
   "outputs": [
    {
     "name": "stdout",
     "output_type": "stream",
     "text": [
      "12/12 [==============================] - 0s 3ms/step\n",
      "(379, 64, 1)\n",
      "(379, 1)\n"
     ]
    },
    {
     "data": {
      "text/plain": [
       "((379,), (379,))"
      ]
     },
     "execution_count": 34,
     "metadata": {},
     "output_type": "execute_result"
    }
   ],
   "source": [
    "predicted_stock_price = regressor.predict(X_test)\n",
    "print(X_test.shape)\n",
    "print(predicted_stock_price.shape)\n",
    "predicted_stock_price_revtrans = sc.inverse_transform(predicted_stock_price).ravel()\n",
    "predicted_stock_price_revtrans_series = pd.Series(predicted_stock_price_revtrans)\n",
    "predicted_stock_price_revtrans_series.index = test_series.index\n",
    "predicted_stock_price_revtrans_series.shape, test_series.shape"
   ]
  },
  {
   "cell_type": "markdown",
   "metadata": {
    "id": "Dhjde2l_Dx1y"
   },
   "source": [
    "## Model Evaluation"
   ]
  },
  {
   "cell_type": "code",
   "execution_count": 35,
   "metadata": {
    "colab": {
     "base_uri": "https://localhost:8080/"
    },
    "execution": {
     "iopub.execute_input": "2022-11-11T01:26:35.393563Z",
     "iopub.status.busy": "2022-11-11T01:26:35.392974Z",
     "iopub.status.idle": "2022-11-11T01:26:35.399768Z",
     "shell.execute_reply": "2022-11-11T01:26:35.398754Z",
     "shell.execute_reply.started": "2022-11-11T01:26:35.393538Z"
    },
    "id": "iLDpDXl5kcnH",
    "outputId": "fe416fe9-094c-425c-f584-33896ca036d7"
   },
   "outputs": [
    {
     "name": "stdout",
     "output_type": "stream",
     "text": [
      "Testing Mean Squared Error: 530388.179\n",
      "Symmetric Mean absolute percentage error: 6.798\n"
     ]
    }
   ],
   "source": [
    "# Evaluating our model\n",
    "error = mean_squared_error(test_series, predicted_stock_price_revtrans_series)\n",
    "print('Testing Mean Squared Error: %.3f' % error)\n",
    "#MSE.append(error)\n",
    "error2 = smape_kun(test_series, predicted_stock_price_revtrans_series)\n",
    "print('Symmetric Mean absolute percentage error: %.3f' % error2)\n",
    "#SMAPE.append(error2)"
   ]
  },
  {
   "cell_type": "markdown",
   "metadata": {
    "id": "tR06LgzkD58c"
   },
   "source": [
    "## Visualizing the results from model predictions"
   ]
  },
  {
   "cell_type": "code",
   "execution_count": 35,
   "metadata": {
    "colab": {
     "base_uri": "https://localhost:8080/",
     "height": 458
    },
    "execution": {
     "iopub.execute_input": "2022-11-10T03:40:55.986887Z",
     "iopub.status.busy": "2022-11-10T03:40:55.986346Z",
     "iopub.status.idle": "2022-11-10T03:40:56.111636Z",
     "shell.execute_reply": "2022-11-10T03:40:56.111100Z",
     "shell.execute_reply.started": "2022-11-10T03:40:55.986866Z"
    },
    "id": "g32mqimHkYja",
    "outputId": "61acd982-a8f7-425b-b129-85c54ce194da"
   },
   "outputs": [
    {
     "data": {
      "image/png": "[encoded data removed]",
      "text/plain": [
       "<Figure size 864x504 with 1 Axes>"
      ]
     },
     "metadata": {
      "needs_background": "light"
     },
     "output_type": "display_data"
    }
   ],
   "source": [
    "plt.figure(figsize=(12,7))\n",
    "plt.title('BTC Prices')\n",
    "plt.xlabel('Dates')\n",
    "plt.ylabel('Prices')\n",
    "plt.plot(train_series, color='blue', label='Training Prices')\n",
    "plt.plot(test_series, color='green', label='Testing Prices')\n",
    "plt.plot(predicted_stock_price_revtrans_series, color='red', linestyle='--', label='Forecasted Prices - Reverse Transform')\n",
    "plt.legend();"
   ]
  },
  {
   "cell_type": "code",
   "execution_count": 36,
   "metadata": {
    "colab": {
     "base_uri": "https://localhost:8080/",
     "height": 458
    },
    "execution": {
     "iopub.execute_input": "2022-11-10T03:41:35.199338Z",
     "iopub.status.busy": "2022-11-10T03:41:35.198976Z",
     "iopub.status.idle": "2022-11-10T03:41:35.310426Z",
     "shell.execute_reply": "2022-11-10T03:41:35.309809Z",
     "shell.execute_reply.started": "2022-11-10T03:41:35.199313Z"
    },
    "id": "UH7f5oS8Fqxy",
    "outputId": "aa4ceff3-c0e5-4796-acae-adcd31aaf5b7"
   },
   "outputs": [
    {
     "data": {
      "image/png": "[encoded data removed]",
      "text/plain": [
       "<Figure size 864x504 with 1 Axes>"
      ]
     },
     "metadata": {
      "needs_background": "light"
     },
     "output_type": "display_data"
    }
   ],
   "source": [
    "plt.figure(figsize=(12,7))\n",
    "plt.title('BTC Prices')\n",
    "plt.xlabel('Dates')\n",
    "plt.ylabel('Prices')\n",
    "plt.plot(test_series, color='green', label='Testing Prices')\n",
    "plt.plot(predicted_stock_price_revtrans_series, color='red', linestyle='--', label='Forecasted Prices - Reverse Transform')\n",
    "plt.legend();"
   ]
  },
  {
   "cell_type": "code",
   "execution_count": null,
   "metadata": {
    "id": "bmpSnB5qbrPi"
   },
   "outputs": [],
   "source": []
  }
 ],
 "metadata": {
  "accelerator": "GPU",
  "colab": {
   "collapsed_sections": [],
   "machine_shape": "hm",
   "provenance": []
  },
  "gpuClass": "standard",
  "kernelspec": {
   "display_name": "Python 3 (ipykernel)",
   "language": "python",
   "name": "python3"
  },
  "language_info": {
   "codemirror_mode": {
    "name": "ipython",
    "version": 3
   },
   "file_extension": ".py",
   "mimetype": "text/x-python",
   "name": "python",
   "nbconvert_exporter": "python",
   "pygments_lexer": "ipython3",
   "version": "3.9.13"
  }
 },
 "nbformat": 4,
 "nbformat_minor": 4
}
